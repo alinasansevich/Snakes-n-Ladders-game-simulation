{
 "cells": [
  {
   "cell_type": "markdown",
   "metadata": {},
   "source": [
    "## What is the minimun number of die rolls needed to win the game \"Snakes and Ladders\"?\n",
    "\n",
    "### To find out, let's simulate the game."
   ]
  },
  {
   "cell_type": "code",
   "execution_count": 1,
   "metadata": {},
   "outputs": [],
   "source": [
    "import random\n",
    "import statistics\n",
    "import datetime\n",
    "\n",
    "\n",
    "class Board():\n",
    "    \"\"\"A class representing the game's board.\"\"\"\n",
    "    def __init__(self):\n",
    "        \"\"\"Create the board.\"\"\"\n",
    "        self.ladders = {1: 38, 4: 14, 9: 31, 21: 42, 28: 84, 36: 44, 51: 67, 71: 91, 80:100}\n",
    "        self.snakes = {16: 6, 48: 30, 64: 60, 79: 19, 93: 68, 95: 24, 97: 76, 98: 78}\n",
    "        self.squares = {num: 'empty' for num in range(1, 101)}\n",
    "    \n",
    "    def update_board(self, player_position, player_name, player_prev_position):\n",
    "        \"\"\"Returns the updated board after each move.\"\"\"\n",
    "        self.squares[player_position] = player_name\n",
    "        self.squares[player_prev_position] = 'empty'\n",
    "        \n",
    "class Die():\n",
    "    \"\"\"A class representing a single D6 die.\"\"\"\n",
    "    def __init__(self):\n",
    "        self.num_sides = 6\n",
    "\n",
    "    def roll(self):\n",
    "        \"\"\"Return a random value between 1 and num_sides.\"\"\"\n",
    "        return random.randint(1, self.num_sides)\n",
    "\n",
    "class Player(Die):\n",
    "    \"\"\"A class representing a player.\"\"\"\n",
    "    def __init__(self, name):\n",
    "        super().__init__()\n",
    "        self.name = name\n",
    "        self.position = 0\n",
    "        self.all_positions = [0]\n",
    "  \n",
    "    def move(self, die_roll):\n",
    "        \"\"\" (int) -> int\n",
    "        Return the new position of player after rolling the die.\"\"\"\n",
    "        self.position += die_roll\n",
    "        return self.position\n",
    "    \n",
    "    def landing(self, current_square, board):\n",
    "        \"\"\" (self.position, Board object) -> self.position\n",
    "        Evaluate the board and return where the player 'lands'.\"\"\"\n",
    "        if current_square > 100:\n",
    "            n = current_square - 100\n",
    "            self.position = 100 - n\n",
    "            current_square = self.position\n",
    "                    \n",
    "        if current_square in board.ladders.keys():\n",
    "            self.position = board.ladders[current_square]\n",
    "        elif current_square in board.snakes.keys():\n",
    "            self.position = board.snakes[current_square]\n",
    "        \n",
    "        if board.squares[current_square] != 'empty':\n",
    "            self.position = 0\n",
    "        \n",
    "        self.all_positions.append(self.position)\n",
    "\n",
    "\n",
    "    def win(self):\n",
    "        \"\"\"Return True if Player has reached the 100th square of the board.\"\"\"\n",
    "        if self.position == 100:\n",
    "            return True\n",
    "\n",
    "\n",
    "def play_game(players):\n",
    "    \"\"\"\n",
    "    (dict) -> stats\n",
    "    Runs a simulation of one game.\n",
    "    Returns the winner's name and the number of times she had to roll the die to win.\n",
    "    \"\"\"\n",
    "    board = Board()\n",
    "    counter = 0\n",
    "    \n",
    "    while board.squares[100] == 'empty':\n",
    "        counter += 1\n",
    "        # print(\"round\", counter)\n",
    "        for player in players.keys():\n",
    "            current_square = players[player].move(players[player].roll())\n",
    "            players[player].landing(current_square, board)\n",
    "            player_position = players[player].position\n",
    "            player_name = players[player].name\n",
    "            player_prev_position = players[player].all_positions[-1]\n",
    "            # print(player_name, player_position, players[player].all_positions)\n",
    "            board.update_board(player_position, player_name, player_prev_position)\n",
    "            if players[player].win():\n",
    "                # print(\"{} wins!\".format(players[player].name))\n",
    "                board.squares[100] = players[player].name\n",
    "                break\n",
    "\n",
    "    return players[player].name, counter\n",
    "\n",
    "def play_simulations(players, num_of_simul):\n",
    "    \"\"\"\n",
    "    (dict, int) -> dict\n",
    "    k:v -> 'Player n':[list of die roll counts]   \n",
    "    Returns a dictionary with the result of num_of_simul simulations for players.\n",
    "    \"\"\"\n",
    "    results = {}\n",
    "    \n",
    "    for player in players:\n",
    "        results[players[player].name] = []\n",
    "    \n",
    "    for n in range(num_of_simul):\n",
    "        result = play_game(players)\n",
    "        results[result[0]].append(result[1])\n",
    "        # reset player's position attributes before next game\n",
    "        for player in players:\n",
    "            players[player].position = 0\n",
    "            players[player].all_positions = []\n",
    "    \n",
    "    return results"
   ]
  },
  {
   "cell_type": "code",
   "execution_count": 2,
   "metadata": {},
   "outputs": [
    {
     "name": "stdout",
     "output_type": "stream",
     "text": [
      "runtime:  16\n"
     ]
    }
   ],
   "source": [
    "### GAME SIMULATION STARTS HERE\n",
    "start = datetime.datetime.now()\n",
    "# Create players\n",
    "players_4 = {1: Player('Player 1'), 2: Player('Player 2'), 3: Player('Player 3'), 4: Player('Player 4')}\n",
    "players_3 = {key:players_4[key] for key in [1, 2, 3]}\n",
    "players_2 = {key:players_4[key] for key in [1, 2]}\n",
    "player_1 = {key:players_4[key] for key in [1]}\n",
    "\n",
    "playing = [player_1, players_2, players_3, players_4]\n",
    "\n",
    "all_results = []\n",
    "\n",
    "for n in range(len(playing)):\n",
    "    all_results.append(play_simulations(playing[n], 100))     \n",
    "    all_results.append(play_simulations(playing[n], 1000))      \n",
    "    all_results.append(play_simulations(playing[n], 10000))\n",
    "\n",
    "end = datetime.datetime.now()\n",
    "runtime = (end - start).seconds\n",
    "print(\"runtime: \", runtime, \" seconds.\")"
   ]
  },
  {
   "cell_type": "code",
   "execution_count": 20,
   "metadata": {},
   "outputs": [
    {
     "data": {
      "text/plain": [
       "2417"
      ]
     },
     "execution_count": 20,
     "metadata": {},
     "output_type": "execute_result"
    }
   ],
   "source": [
    "# for i, l in enumerate(all_results):\n",
    "#     print(i, '\\t', l)\n",
    "\n",
    "# len(all_results)  # 12\n",
    "# 0 1 2   1 player\n",
    "# 3 4 5   2 players\n",
    "# 6 7 8   3 players\n",
    "# 9 10 11 4 players\n",
    "\n",
    "len(all_results[11]['Player 4'])"
   ]
  },
  {
   "cell_type": "markdown",
   "metadata": {},
   "source": [
    "#### Now, let's take a look at the results:"
   ]
  },
  {
   "cell_type": "markdown",
   "metadata": {},
   "source": [
    "create df, etc"
   ]
  },
  {
   "cell_type": "code",
   "execution_count": 3,
   "metadata": {},
   "outputs": [
    {
     "data": {
      "image/png": "[encoded data removed]",
      "text/plain": [
       "<Figure size 432x288 with 1 Axes>"
      ]
     },
     "metadata": {
      "needs_background": "light"
     },
     "output_type": "display_data"
    }
   ],
   "source": [
    "# Plot the results  FROM df!!!!!!!!!!!!!\n",
    "import matplotlib.pyplot as plt\n",
    "\n",
    "data = [value for value in results.values()]\n",
    "names = [key for key in results.keys()]\n",
    "# color='black', marker='o', markersize=3,\n",
    "# legend = mlines.Line2D([], [], label='Number of simulations: {}'.format(num_simul))\n",
    "flierprops = dict(marker='o', markersize=4)\n",
    "fig1, ax1 = plt.subplots()\n",
    "ax1.set_title(\"Game results for each player - {} simulations\".format(num_simul))\n",
    "ax1.boxplot(data, flierprops=flierprops, showmeans=True, meanline=True)\n",
    "ax1.set_xlabel(\"Winner\")\n",
    "ax1.set_ylabel(\"Number of times the winner rolled the die\")\n",
    "ax1.set_xticklabels(names, rotation=30, fontsize=10)\n",
    "# ax1.legend(handles=[legend], frameon=False, bbox_to_anchor=(1.05, 1), loc='upper center')\n",
    "plt.show()"
   ]
  },
  {
   "cell_type": "markdown",
   "metadata": {},
   "source": [
    "As we can see, no matter how many players are playing, sometimes you can really end up trapped in this seemingly never ending game."
   ]
  }
 ],
 "metadata": {
  "kernelspec": {
   "display_name": "Python 3",
   "language": "python",
   "name": "python3"
  },
  "language_info": {
   "codemirror_mode": {
    "name": "ipython",
    "version": 3
   },
   "file_extension": ".py",
   "mimetype": "text/x-python",
   "name": "python",
   "nbconvert_exporter": "python",
   "pygments_lexer": "ipython3",
   "version": "3.7.6"
  }
 },
 "nbformat": 4,
 "nbformat_minor": 4
}
